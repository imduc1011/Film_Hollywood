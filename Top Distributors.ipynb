{
 "cells": [
  {
   "cell_type": "code",
   "execution_count": 1,
   "id": "8b4c0a98",
   "metadata": {},
   "outputs": [],
   "source": [
    "#import library\n",
    "import pandas as pd\n",
    "import numpy as np \n",
    "import matplotlib.pyplot as plt"
   ]
  },
  {
   "cell_type": "markdown",
   "id": "1b6cf6a1",
   "metadata": {},
   "source": [
    "# Preparation"
   ]
  },
  {
   "cell_type": "code",
   "execution_count": 2,
   "id": "ee20c73a",
   "metadata": {},
   "outputs": [
    {
     "data": {
      "text/html": [
       "<div>\n",
       "<style scoped>\n",
       "    .dataframe tbody tr th:only-of-type {\n",
       "        vertical-align: middle;\n",
       "    }\n",
       "\n",
       "    .dataframe tbody tr th {\n",
       "        vertical-align: top;\n",
       "    }\n",
       "\n",
       "    .dataframe thead th {\n",
       "        text-align: right;\n",
       "    }\n",
       "</style>\n",
       "<table border=\"1\" class=\"dataframe\">\n",
       "  <thead>\n",
       "    <tr style=\"text-align: right;\">\n",
       "      <th></th>\n",
       "      <th>RANK</th>\n",
       "      <th>DISTRIBUTORS</th>\n",
       "      <th>MOVIES</th>\n",
       "      <th>TOTAL GROSS</th>\n",
       "      <th>AVERAGE GROSS</th>\n",
       "      <th>MARKET SHARE</th>\n",
       "    </tr>\n",
       "  </thead>\n",
       "  <tbody>\n",
       "    <tr>\n",
       "      <th>0</th>\n",
       "      <td>1</td>\n",
       "      <td>Walt Disney</td>\n",
       "      <td>588</td>\n",
       "      <td>$40,472,424,278</td>\n",
       "      <td>$68,830,654</td>\n",
       "      <td>17.02%</td>\n",
       "    </tr>\n",
       "    <tr>\n",
       "      <th>1</th>\n",
       "      <td>2</td>\n",
       "      <td>Warner Bros.</td>\n",
       "      <td>824</td>\n",
       "      <td>$36,269,425,479</td>\n",
       "      <td>$44,016,293</td>\n",
       "      <td>15.25%</td>\n",
       "    </tr>\n",
       "    <tr>\n",
       "      <th>2</th>\n",
       "      <td>3</td>\n",
       "      <td>Sony Pictures</td>\n",
       "      <td>747</td>\n",
       "      <td>$29,113,002,302</td>\n",
       "      <td>$38,973,229</td>\n",
       "      <td>12.24%</td>\n",
       "    </tr>\n",
       "    <tr>\n",
       "      <th>3</th>\n",
       "      <td>4</td>\n",
       "      <td>Universal</td>\n",
       "      <td>535</td>\n",
       "      <td>$28,089,932,569</td>\n",
       "      <td>$52,504,547</td>\n",
       "      <td>11.81%</td>\n",
       "    </tr>\n",
       "    <tr>\n",
       "      <th>4</th>\n",
       "      <td>5</td>\n",
       "      <td>20th Century Fox</td>\n",
       "      <td>525</td>\n",
       "      <td>$25,857,839,756</td>\n",
       "      <td>$49,253,028</td>\n",
       "      <td>10.88%</td>\n",
       "    </tr>\n",
       "    <tr>\n",
       "      <th>5</th>\n",
       "      <td>6</td>\n",
       "      <td>Paramount Pictures</td>\n",
       "      <td>493</td>\n",
       "      <td>$24,361,425,304</td>\n",
       "      <td>$49,414,656</td>\n",
       "      <td>10.25%</td>\n",
       "    </tr>\n",
       "    <tr>\n",
       "      <th>6</th>\n",
       "      <td>7</td>\n",
       "      <td>Lionsgate</td>\n",
       "      <td>426</td>\n",
       "      <td>$9,631,837,781</td>\n",
       "      <td>$22,609,948</td>\n",
       "      <td>4.05%</td>\n",
       "    </tr>\n",
       "    <tr>\n",
       "      <th>7</th>\n",
       "      <td>8</td>\n",
       "      <td>New Line</td>\n",
       "      <td>209</td>\n",
       "      <td>$6,195,268,024</td>\n",
       "      <td>$29,642,431</td>\n",
       "      <td>2.61%</td>\n",
       "    </tr>\n",
       "    <tr>\n",
       "      <th>8</th>\n",
       "      <td>9</td>\n",
       "      <td>Dreamworks SKG</td>\n",
       "      <td>77</td>\n",
       "      <td>$4,278,649,271</td>\n",
       "      <td>$55,566,874</td>\n",
       "      <td>1.80%</td>\n",
       "    </tr>\n",
       "    <tr>\n",
       "      <th>9</th>\n",
       "      <td>10</td>\n",
       "      <td>Miramax</td>\n",
       "      <td>385</td>\n",
       "      <td>$3,836,019,208</td>\n",
       "      <td>$9,963,686</td>\n",
       "      <td>1.61%</td>\n",
       "    </tr>\n",
       "  </tbody>\n",
       "</table>\n",
       "</div>"
      ],
      "text/plain": [
       "   RANK        DISTRIBUTORS  MOVIES      TOTAL GROSS AVERAGE GROSS  \\\n",
       "0     1         Walt Disney     588  $40,472,424,278   $68,830,654   \n",
       "1     2        Warner Bros.     824  $36,269,425,479   $44,016,293   \n",
       "2     3       Sony Pictures     747  $29,113,002,302   $38,973,229   \n",
       "3     4           Universal     535  $28,089,932,569   $52,504,547   \n",
       "4     5    20th Century Fox     525  $25,857,839,756   $49,253,028   \n",
       "5     6  Paramount Pictures     493  $24,361,425,304   $49,414,656   \n",
       "6     7           Lionsgate     426   $9,631,837,781   $22,609,948   \n",
       "7     8            New Line     209   $6,195,268,024   $29,642,431   \n",
       "8     9      Dreamworks SKG      77   $4,278,649,271   $55,566,874   \n",
       "9    10             Miramax     385   $3,836,019,208    $9,963,686   \n",
       "\n",
       "  MARKET SHARE  \n",
       "0       17.02%  \n",
       "1       15.25%  \n",
       "2       12.24%  \n",
       "3       11.81%  \n",
       "4       10.88%  \n",
       "5       10.25%  \n",
       "6        4.05%  \n",
       "7        2.61%  \n",
       "8        1.80%  \n",
       "9        1.61%  "
      ]
     },
     "execution_count": 2,
     "metadata": {},
     "output_type": "execute_result"
    }
   ],
   "source": [
    "#import dataset\n",
    "distributors = pd.read_csv(\"E:/Python/Film/TopDistributors.csv\")\n",
    "distributors.head(14)"
   ]
  },
  {
   "cell_type": "code",
   "execution_count": 3,
   "id": "14e41511",
   "metadata": {},
   "outputs": [
    {
     "data": {
      "text/plain": [
       "RANK              int64\n",
       "DISTRIBUTORS     object\n",
       "MOVIES            int64\n",
       "TOTAL GROSS      object\n",
       "AVERAGE GROSS    object\n",
       "MARKET SHARE     object\n",
       "dtype: object"
      ]
     },
     "execution_count": 3,
     "metadata": {},
     "output_type": "execute_result"
    }
   ],
   "source": [
    "#datatype of each column\n",
    "distributors.dtypes"
   ]
  },
  {
   "cell_type": "code",
   "execution_count": 4,
   "id": "20ba5ac2",
   "metadata": {},
   "outputs": [],
   "source": [
    "#remove string \"$\"\n",
    "distributors[\"TOTAL GROSS\"] = distributors['TOTAL GROSS'].str.replace('$', '',regex= False)"
   ]
  },
  {
   "cell_type": "code",
   "execution_count": 5,
   "id": "e29ff041",
   "metadata": {},
   "outputs": [],
   "source": [
    "#remove string \"$\"\n",
    "distributors['AVERAGE GROSS'] = distributors['AVERAGE GROSS'].str.replace(\"$\", \"\", regex = False)"
   ]
  },
  {
   "cell_type": "code",
   "execution_count": 6,
   "id": "0406853f",
   "metadata": {},
   "outputs": [],
   "source": [
    "#remove string \"%\"\n",
    "distributors['MARKET SHARE'] = distributors['MARKET SHARE'].str.replace(\"%\", \"\")"
   ]
  },
  {
   "cell_type": "code",
   "execution_count": 7,
   "id": "fc7366ba",
   "metadata": {},
   "outputs": [
    {
     "data": {
      "text/html": [
       "<div>\n",
       "<style scoped>\n",
       "    .dataframe tbody tr th:only-of-type {\n",
       "        vertical-align: middle;\n",
       "    }\n",
       "\n",
       "    .dataframe tbody tr th {\n",
       "        vertical-align: top;\n",
       "    }\n",
       "\n",
       "    .dataframe thead th {\n",
       "        text-align: right;\n",
       "    }\n",
       "</style>\n",
       "<table border=\"1\" class=\"dataframe\">\n",
       "  <thead>\n",
       "    <tr style=\"text-align: right;\">\n",
       "      <th></th>\n",
       "      <th>RANK</th>\n",
       "      <th>DISTRIBUTORS</th>\n",
       "      <th>MOVIES</th>\n",
       "      <th>TOTAL GROSS</th>\n",
       "      <th>AVERAGE GROSS</th>\n",
       "      <th>MARKET SHARE</th>\n",
       "    </tr>\n",
       "  </thead>\n",
       "  <tbody>\n",
       "    <tr>\n",
       "      <th>0</th>\n",
       "      <td>1</td>\n",
       "      <td>Walt Disney</td>\n",
       "      <td>588</td>\n",
       "      <td>40,472,424,278</td>\n",
       "      <td>68,830,654</td>\n",
       "      <td>17.02</td>\n",
       "    </tr>\n",
       "    <tr>\n",
       "      <th>1</th>\n",
       "      <td>2</td>\n",
       "      <td>Warner Bros.</td>\n",
       "      <td>824</td>\n",
       "      <td>36,269,425,479</td>\n",
       "      <td>44,016,293</td>\n",
       "      <td>15.25</td>\n",
       "    </tr>\n",
       "    <tr>\n",
       "      <th>2</th>\n",
       "      <td>3</td>\n",
       "      <td>Sony Pictures</td>\n",
       "      <td>747</td>\n",
       "      <td>29,113,002,302</td>\n",
       "      <td>38,973,229</td>\n",
       "      <td>12.24</td>\n",
       "    </tr>\n",
       "    <tr>\n",
       "      <th>3</th>\n",
       "      <td>4</td>\n",
       "      <td>Universal</td>\n",
       "      <td>535</td>\n",
       "      <td>28,089,932,569</td>\n",
       "      <td>52,504,547</td>\n",
       "      <td>11.81</td>\n",
       "    </tr>\n",
       "    <tr>\n",
       "      <th>4</th>\n",
       "      <td>5</td>\n",
       "      <td>20th Century Fox</td>\n",
       "      <td>525</td>\n",
       "      <td>25,857,839,756</td>\n",
       "      <td>49,253,028</td>\n",
       "      <td>10.88</td>\n",
       "    </tr>\n",
       "  </tbody>\n",
       "</table>\n",
       "</div>"
      ],
      "text/plain": [
       "   RANK      DISTRIBUTORS  MOVIES     TOTAL GROSS AVERAGE GROSS MARKET SHARE\n",
       "0     1       Walt Disney     588  40,472,424,278    68,830,654        17.02\n",
       "1     2      Warner Bros.     824  36,269,425,479    44,016,293        15.25\n",
       "2     3     Sony Pictures     747  29,113,002,302    38,973,229        12.24\n",
       "3     4         Universal     535  28,089,932,569    52,504,547        11.81\n",
       "4     5  20th Century Fox     525  25,857,839,756    49,253,028        10.88"
      ]
     },
     "execution_count": 7,
     "metadata": {},
     "output_type": "execute_result"
    }
   ],
   "source": [
    "distributors.head(5)"
   ]
  },
  {
   "cell_type": "code",
   "execution_count": 8,
   "id": "c853bf49",
   "metadata": {},
   "outputs": [],
   "source": [
    "#remove \",\"\n",
    "distributors[\"TOTAL GROSS\"] = distributors['TOTAL GROSS'].str.replace(',', '',regex= False)"
   ]
  },
  {
   "cell_type": "code",
   "execution_count": 9,
   "id": "9e8462b1",
   "metadata": {},
   "outputs": [],
   "source": [
    "#remove \",\"\n",
    "distributors['AVERAGE GROSS'] = distributors['AVERAGE GROSS'].str.replace(\",\", \"\", regex = False)"
   ]
  },
  {
   "cell_type": "code",
   "execution_count": 10,
   "id": "4710e336",
   "metadata": {},
   "outputs": [],
   "source": [
    "#Change data type\n",
    "distributors[[\"TOTAL GROSS\", \"AVERAGE GROSS\",\"MARKET SHARE\"]] = distributors[[\"TOTAL GROSS\", \"AVERAGE GROSS\",\"MARKET SHARE\"]].astype(\"float64\")"
   ]
  },
  {
   "cell_type": "code",
   "execution_count": 11,
   "id": "985ec9fa",
   "metadata": {},
   "outputs": [
    {
     "data": {
      "text/html": [
       "<div>\n",
       "<style scoped>\n",
       "    .dataframe tbody tr th:only-of-type {\n",
       "        vertical-align: middle;\n",
       "    }\n",
       "\n",
       "    .dataframe tbody tr th {\n",
       "        vertical-align: top;\n",
       "    }\n",
       "\n",
       "    .dataframe thead th {\n",
       "        text-align: right;\n",
       "    }\n",
       "</style>\n",
       "<table border=\"1\" class=\"dataframe\">\n",
       "  <thead>\n",
       "    <tr style=\"text-align: right;\">\n",
       "      <th></th>\n",
       "      <th>RANK</th>\n",
       "      <th>DISTRIBUTORS</th>\n",
       "      <th>MOVIES</th>\n",
       "      <th>TOTAL GROSS</th>\n",
       "      <th>AVERAGE GROSS</th>\n",
       "      <th>MARKET SHARE</th>\n",
       "    </tr>\n",
       "  </thead>\n",
       "  <tbody>\n",
       "    <tr>\n",
       "      <th>0</th>\n",
       "      <td>1</td>\n",
       "      <td>Walt Disney</td>\n",
       "      <td>588</td>\n",
       "      <td>4.047242e+10</td>\n",
       "      <td>68830654.0</td>\n",
       "      <td>17.02</td>\n",
       "    </tr>\n",
       "    <tr>\n",
       "      <th>1</th>\n",
       "      <td>2</td>\n",
       "      <td>Warner Bros.</td>\n",
       "      <td>824</td>\n",
       "      <td>3.626943e+10</td>\n",
       "      <td>44016293.0</td>\n",
       "      <td>15.25</td>\n",
       "    </tr>\n",
       "    <tr>\n",
       "      <th>2</th>\n",
       "      <td>3</td>\n",
       "      <td>Sony Pictures</td>\n",
       "      <td>747</td>\n",
       "      <td>2.911300e+10</td>\n",
       "      <td>38973229.0</td>\n",
       "      <td>12.24</td>\n",
       "    </tr>\n",
       "    <tr>\n",
       "      <th>3</th>\n",
       "      <td>4</td>\n",
       "      <td>Universal</td>\n",
       "      <td>535</td>\n",
       "      <td>2.808993e+10</td>\n",
       "      <td>52504547.0</td>\n",
       "      <td>11.81</td>\n",
       "    </tr>\n",
       "    <tr>\n",
       "      <th>4</th>\n",
       "      <td>5</td>\n",
       "      <td>20th Century Fox</td>\n",
       "      <td>525</td>\n",
       "      <td>2.585784e+10</td>\n",
       "      <td>49253028.0</td>\n",
       "      <td>10.88</td>\n",
       "    </tr>\n",
       "  </tbody>\n",
       "</table>\n",
       "</div>"
      ],
      "text/plain": [
       "   RANK      DISTRIBUTORS  MOVIES   TOTAL GROSS  AVERAGE GROSS  MARKET SHARE\n",
       "0     1       Walt Disney     588  4.047242e+10     68830654.0         17.02\n",
       "1     2      Warner Bros.     824  3.626943e+10     44016293.0         15.25\n",
       "2     3     Sony Pictures     747  2.911300e+10     38973229.0         12.24\n",
       "3     4         Universal     535  2.808993e+10     52504547.0         11.81\n",
       "4     5  20th Century Fox     525  2.585784e+10     49253028.0         10.88"
      ]
     },
     "execution_count": 11,
     "metadata": {},
     "output_type": "execute_result"
    }
   ],
   "source": [
    "distributors.head()"
   ]
  },
  {
   "cell_type": "code",
   "execution_count": 12,
   "id": "2a3ab09f",
   "metadata": {},
   "outputs": [
    {
     "data": {
      "text/html": [
       "<div>\n",
       "<style scoped>\n",
       "    .dataframe tbody tr th:only-of-type {\n",
       "        vertical-align: middle;\n",
       "    }\n",
       "\n",
       "    .dataframe tbody tr th {\n",
       "        vertical-align: top;\n",
       "    }\n",
       "\n",
       "    .dataframe thead th {\n",
       "        text-align: right;\n",
       "    }\n",
       "</style>\n",
       "<table border=\"1\" class=\"dataframe\">\n",
       "  <thead>\n",
       "    <tr style=\"text-align: right;\">\n",
       "      <th></th>\n",
       "      <th>RANK</th>\n",
       "      <th>DISTRIBUTORS</th>\n",
       "      <th>MOVIES</th>\n",
       "      <th>TOTAL GROSS</th>\n",
       "      <th>AVERAGE GROSS</th>\n",
       "      <th>MARKET SHARE</th>\n",
       "    </tr>\n",
       "  </thead>\n",
       "  <tbody>\n",
       "    <tr>\n",
       "      <th>1</th>\n",
       "      <td>2</td>\n",
       "      <td>Warner Bros.</td>\n",
       "      <td>824</td>\n",
       "      <td>3.626943e+10</td>\n",
       "      <td>44016293.0</td>\n",
       "      <td>15.25</td>\n",
       "    </tr>\n",
       "    <tr>\n",
       "      <th>2</th>\n",
       "      <td>3</td>\n",
       "      <td>Sony Pictures</td>\n",
       "      <td>747</td>\n",
       "      <td>2.911300e+10</td>\n",
       "      <td>38973229.0</td>\n",
       "      <td>12.24</td>\n",
       "    </tr>\n",
       "    <tr>\n",
       "      <th>0</th>\n",
       "      <td>1</td>\n",
       "      <td>Walt Disney</td>\n",
       "      <td>588</td>\n",
       "      <td>4.047242e+10</td>\n",
       "      <td>68830654.0</td>\n",
       "      <td>17.02</td>\n",
       "    </tr>\n",
       "    <tr>\n",
       "      <th>3</th>\n",
       "      <td>4</td>\n",
       "      <td>Universal</td>\n",
       "      <td>535</td>\n",
       "      <td>2.808993e+10</td>\n",
       "      <td>52504547.0</td>\n",
       "      <td>11.81</td>\n",
       "    </tr>\n",
       "    <tr>\n",
       "      <th>4</th>\n",
       "      <td>5</td>\n",
       "      <td>20th Century Fox</td>\n",
       "      <td>525</td>\n",
       "      <td>2.585784e+10</td>\n",
       "      <td>49253028.0</td>\n",
       "      <td>10.88</td>\n",
       "    </tr>\n",
       "  </tbody>\n",
       "</table>\n",
       "</div>"
      ],
      "text/plain": [
       "   RANK      DISTRIBUTORS  MOVIES   TOTAL GROSS  AVERAGE GROSS  MARKET SHARE\n",
       "1     2      Warner Bros.     824  3.626943e+10     44016293.0         15.25\n",
       "2     3     Sony Pictures     747  2.911300e+10     38973229.0         12.24\n",
       "0     1       Walt Disney     588  4.047242e+10     68830654.0         17.02\n",
       "3     4         Universal     535  2.808993e+10     52504547.0         11.81\n",
       "4     5  20th Century Fox     525  2.585784e+10     49253028.0         10.88"
      ]
     },
     "execution_count": 12,
     "metadata": {},
     "output_type": "execute_result"
    }
   ],
   "source": [
    "#sort by movies\n",
    "movies_top = distributors.sort_values(\"MOVIES\",ascending = False)\n",
    "movies_top.head()"
   ]
  },
  {
   "cell_type": "code",
   "execution_count": 13,
   "id": "0b3ff812",
   "metadata": {},
   "outputs": [
    {
     "data": {
      "text/html": [
       "<div>\n",
       "<style scoped>\n",
       "    .dataframe tbody tr th:only-of-type {\n",
       "        vertical-align: middle;\n",
       "    }\n",
       "\n",
       "    .dataframe tbody tr th {\n",
       "        vertical-align: top;\n",
       "    }\n",
       "\n",
       "    .dataframe thead th {\n",
       "        text-align: right;\n",
       "    }\n",
       "</style>\n",
       "<table border=\"1\" class=\"dataframe\">\n",
       "  <thead>\n",
       "    <tr style=\"text-align: right;\">\n",
       "      <th></th>\n",
       "      <th>RANK</th>\n",
       "      <th>DISTRIBUTORS</th>\n",
       "      <th>MOVIES</th>\n",
       "      <th>TOTAL GROSS</th>\n",
       "      <th>AVERAGE GROSS</th>\n",
       "      <th>MARKET SHARE</th>\n",
       "    </tr>\n",
       "  </thead>\n",
       "  <tbody>\n",
       "    <tr>\n",
       "      <th>0</th>\n",
       "      <td>1</td>\n",
       "      <td>Walt Disney</td>\n",
       "      <td>588</td>\n",
       "      <td>4.047242e+10</td>\n",
       "      <td>68830654.0</td>\n",
       "      <td>17.02</td>\n",
       "    </tr>\n",
       "    <tr>\n",
       "      <th>1</th>\n",
       "      <td>2</td>\n",
       "      <td>Warner Bros.</td>\n",
       "      <td>824</td>\n",
       "      <td>3.626943e+10</td>\n",
       "      <td>44016293.0</td>\n",
       "      <td>15.25</td>\n",
       "    </tr>\n",
       "    <tr>\n",
       "      <th>2</th>\n",
       "      <td>3</td>\n",
       "      <td>Sony Pictures</td>\n",
       "      <td>747</td>\n",
       "      <td>2.911300e+10</td>\n",
       "      <td>38973229.0</td>\n",
       "      <td>12.24</td>\n",
       "    </tr>\n",
       "    <tr>\n",
       "      <th>3</th>\n",
       "      <td>4</td>\n",
       "      <td>Universal</td>\n",
       "      <td>535</td>\n",
       "      <td>2.808993e+10</td>\n",
       "      <td>52504547.0</td>\n",
       "      <td>11.81</td>\n",
       "    </tr>\n",
       "    <tr>\n",
       "      <th>4</th>\n",
       "      <td>5</td>\n",
       "      <td>20th Century Fox</td>\n",
       "      <td>525</td>\n",
       "      <td>2.585784e+10</td>\n",
       "      <td>49253028.0</td>\n",
       "      <td>10.88</td>\n",
       "    </tr>\n",
       "  </tbody>\n",
       "</table>\n",
       "</div>"
      ],
      "text/plain": [
       "   RANK      DISTRIBUTORS  MOVIES   TOTAL GROSS  AVERAGE GROSS  MARKET SHARE\n",
       "0     1       Walt Disney     588  4.047242e+10     68830654.0         17.02\n",
       "1     2      Warner Bros.     824  3.626943e+10     44016293.0         15.25\n",
       "2     3     Sony Pictures     747  2.911300e+10     38973229.0         12.24\n",
       "3     4         Universal     535  2.808993e+10     52504547.0         11.81\n",
       "4     5  20th Century Fox     525  2.585784e+10     49253028.0         10.88"
      ]
     },
     "execution_count": 13,
     "metadata": {},
     "output_type": "execute_result"
    }
   ],
   "source": [
    "#sort by total gross\n",
    "totalgross_top = distributors.sort_values(\"TOTAL GROSS\",ascending = False)\n",
    "totalgross_top.head()"
   ]
  },
  {
   "cell_type": "code",
   "execution_count": 14,
   "id": "f9cdcb1d",
   "metadata": {},
   "outputs": [
    {
     "data": {
      "text/html": [
       "<div>\n",
       "<style scoped>\n",
       "    .dataframe tbody tr th:only-of-type {\n",
       "        vertical-align: middle;\n",
       "    }\n",
       "\n",
       "    .dataframe tbody tr th {\n",
       "        vertical-align: top;\n",
       "    }\n",
       "\n",
       "    .dataframe thead th {\n",
       "        text-align: right;\n",
       "    }\n",
       "</style>\n",
       "<table border=\"1\" class=\"dataframe\">\n",
       "  <thead>\n",
       "    <tr style=\"text-align: right;\">\n",
       "      <th></th>\n",
       "      <th>RANK</th>\n",
       "      <th>DISTRIBUTORS</th>\n",
       "      <th>MOVIES</th>\n",
       "      <th>TOTAL GROSS</th>\n",
       "      <th>AVERAGE GROSS</th>\n",
       "      <th>MARKET SHARE</th>\n",
       "    </tr>\n",
       "  </thead>\n",
       "  <tbody>\n",
       "    <tr>\n",
       "      <th>0</th>\n",
       "      <td>1</td>\n",
       "      <td>Walt Disney</td>\n",
       "      <td>588</td>\n",
       "      <td>4.047242e+10</td>\n",
       "      <td>68830654.0</td>\n",
       "      <td>17.02</td>\n",
       "    </tr>\n",
       "    <tr>\n",
       "      <th>8</th>\n",
       "      <td>9</td>\n",
       "      <td>Dreamworks SKG</td>\n",
       "      <td>77</td>\n",
       "      <td>4.278649e+09</td>\n",
       "      <td>55566874.0</td>\n",
       "      <td>1.80</td>\n",
       "    </tr>\n",
       "    <tr>\n",
       "      <th>3</th>\n",
       "      <td>4</td>\n",
       "      <td>Universal</td>\n",
       "      <td>535</td>\n",
       "      <td>2.808993e+10</td>\n",
       "      <td>52504547.0</td>\n",
       "      <td>11.81</td>\n",
       "    </tr>\n",
       "    <tr>\n",
       "      <th>5</th>\n",
       "      <td>6</td>\n",
       "      <td>Paramount Pictures</td>\n",
       "      <td>493</td>\n",
       "      <td>2.436143e+10</td>\n",
       "      <td>49414656.0</td>\n",
       "      <td>10.25</td>\n",
       "    </tr>\n",
       "    <tr>\n",
       "      <th>4</th>\n",
       "      <td>5</td>\n",
       "      <td>20th Century Fox</td>\n",
       "      <td>525</td>\n",
       "      <td>2.585784e+10</td>\n",
       "      <td>49253028.0</td>\n",
       "      <td>10.88</td>\n",
       "    </tr>\n",
       "  </tbody>\n",
       "</table>\n",
       "</div>"
      ],
      "text/plain": [
       "   RANK        DISTRIBUTORS  MOVIES   TOTAL GROSS  AVERAGE GROSS  MARKET SHARE\n",
       "0     1         Walt Disney     588  4.047242e+10     68830654.0         17.02\n",
       "8     9      Dreamworks SKG      77  4.278649e+09     55566874.0          1.80\n",
       "3     4           Universal     535  2.808993e+10     52504547.0         11.81\n",
       "5     6  Paramount Pictures     493  2.436143e+10     49414656.0         10.25\n",
       "4     5    20th Century Fox     525  2.585784e+10     49253028.0         10.88"
      ]
     },
     "execution_count": 14,
     "metadata": {},
     "output_type": "execute_result"
    }
   ],
   "source": [
    "#sort by AVERAGE GROSS\n",
    "averagegross_top = distributors.sort_values(\"AVERAGE GROSS\",ascending = False)\n",
    "averagegross_top.head()"
   ]
  },
  {
   "cell_type": "code",
   "execution_count": 15,
   "id": "a99a220e",
   "metadata": {},
   "outputs": [
    {
     "data": {
      "text/html": [
       "<div>\n",
       "<style scoped>\n",
       "    .dataframe tbody tr th:only-of-type {\n",
       "        vertical-align: middle;\n",
       "    }\n",
       "\n",
       "    .dataframe tbody tr th {\n",
       "        vertical-align: top;\n",
       "    }\n",
       "\n",
       "    .dataframe thead th {\n",
       "        text-align: right;\n",
       "    }\n",
       "</style>\n",
       "<table border=\"1\" class=\"dataframe\">\n",
       "  <thead>\n",
       "    <tr style=\"text-align: right;\">\n",
       "      <th></th>\n",
       "      <th>RANK</th>\n",
       "      <th>DISTRIBUTORS</th>\n",
       "      <th>MOVIES</th>\n",
       "      <th>TOTAL GROSS</th>\n",
       "      <th>AVERAGE GROSS</th>\n",
       "      <th>MARKET SHARE</th>\n",
       "    </tr>\n",
       "  </thead>\n",
       "  <tbody>\n",
       "    <tr>\n",
       "      <th>0</th>\n",
       "      <td>1</td>\n",
       "      <td>Walt Disney</td>\n",
       "      <td>588</td>\n",
       "      <td>4.047242e+10</td>\n",
       "      <td>68830654.0</td>\n",
       "      <td>17.02</td>\n",
       "    </tr>\n",
       "    <tr>\n",
       "      <th>1</th>\n",
       "      <td>2</td>\n",
       "      <td>Warner Bros.</td>\n",
       "      <td>824</td>\n",
       "      <td>3.626943e+10</td>\n",
       "      <td>44016293.0</td>\n",
       "      <td>15.25</td>\n",
       "    </tr>\n",
       "    <tr>\n",
       "      <th>2</th>\n",
       "      <td>3</td>\n",
       "      <td>Sony Pictures</td>\n",
       "      <td>747</td>\n",
       "      <td>2.911300e+10</td>\n",
       "      <td>38973229.0</td>\n",
       "      <td>12.24</td>\n",
       "    </tr>\n",
       "    <tr>\n",
       "      <th>3</th>\n",
       "      <td>4</td>\n",
       "      <td>Universal</td>\n",
       "      <td>535</td>\n",
       "      <td>2.808993e+10</td>\n",
       "      <td>52504547.0</td>\n",
       "      <td>11.81</td>\n",
       "    </tr>\n",
       "    <tr>\n",
       "      <th>4</th>\n",
       "      <td>5</td>\n",
       "      <td>20th Century Fox</td>\n",
       "      <td>525</td>\n",
       "      <td>2.585784e+10</td>\n",
       "      <td>49253028.0</td>\n",
       "      <td>10.88</td>\n",
       "    </tr>\n",
       "  </tbody>\n",
       "</table>\n",
       "</div>"
      ],
      "text/plain": [
       "   RANK      DISTRIBUTORS  MOVIES   TOTAL GROSS  AVERAGE GROSS  MARKET SHARE\n",
       "0     1       Walt Disney     588  4.047242e+10     68830654.0         17.02\n",
       "1     2      Warner Bros.     824  3.626943e+10     44016293.0         15.25\n",
       "2     3     Sony Pictures     747  2.911300e+10     38973229.0         12.24\n",
       "3     4         Universal     535  2.808993e+10     52504547.0         11.81\n",
       "4     5  20th Century Fox     525  2.585784e+10     49253028.0         10.88"
      ]
     },
     "execution_count": 15,
     "metadata": {},
     "output_type": "execute_result"
    }
   ],
   "source": [
    "#sort by MARKET SHARE\n",
    "marketshare_top = distributors.sort_values(\"MARKET SHARE\",ascending = False)\n",
    "marketshare_top.head()"
   ]
  },
  {
   "cell_type": "markdown",
   "id": "07633fc1",
   "metadata": {},
   "source": [
    "# Visualization"
   ]
  },
  {
   "cell_type": "code",
   "execution_count": 16,
   "id": "f1a4f613",
   "metadata": {},
   "outputs": [
    {
     "data": {
      "image/png": "[encoded data removed]",
      "text/plain": [
       "<Figure size 432x288 with 1 Axes>"
      ]
     },
     "metadata": {
      "needs_background": "light"
     },
     "output_type": "display_data"
    }
   ],
   "source": [
    "#movies\n",
    "movies = distributors.plot.barh( x = \"DISTRIBUTORS\", y = \"MOVIES\")\n",
    "movies.set_title('Movies Produced')\n",
    "plt.show()"
   ]
  },
  {
   "cell_type": "code",
   "execution_count": 17,
   "id": "aba7c4b4",
   "metadata": {},
   "outputs": [
    {
     "data": {
      "image/png": "[encoded data removed]",
      "text/plain": [
       "<Figure size 432x288 with 1 Axes>"
      ]
     },
     "metadata": {
      "needs_background": "light"
     },
     "output_type": "display_data"
    }
   ],
   "source": [
    "#total gross\n",
    "total_gross = distributors.plot.barh( x = \"DISTRIBUTORS\", y = \"TOTAL GROSS\")\n",
    "total_gross.set_title(\"Total Gross\")\n",
    "plt.show()"
   ]
  },
  {
   "cell_type": "code",
   "execution_count": 18,
   "id": "660372f9",
   "metadata": {},
   "outputs": [
    {
     "data": {
      "image/png": "[encoded data removed]",
      "text/plain": [
       "<Figure size 432x288 with 1 Axes>"
      ]
     },
     "metadata": {
      "needs_background": "light"
     },
     "output_type": "display_data"
    }
   ],
   "source": [
    "#average gross\n",
    "average_gross = distributors.plot.barh( x = \"DISTRIBUTORS\", y = \"AVERAGE GROSS\")\n",
    "average_gross.set_title(\"Average Gross\")\n",
    "plt.show()"
   ]
  },
  {
   "cell_type": "code",
   "execution_count": 19,
   "id": "833ea29e",
   "metadata": {},
   "outputs": [
    {
     "data": {
      "image/png": "[encoded data removed]",
      "text/plain": [
       "<Figure size 432x288 with 1 Axes>"
      ]
     },
     "metadata": {},
     "output_type": "display_data"
    }
   ],
   "source": [
    "#market share\n",
    "market_share = distributors.plot.pie( y = \"MARKET SHARE\", label = \"DISTRIBUTORS\")\n",
    "market_share.set_title(\"Market Share by Distributors\")\n",
    "plt.show()"
   ]
  },
  {
   "cell_type": "code",
   "execution_count": 20,
   "id": "4a22dcf3",
   "metadata": {},
   "outputs": [],
   "source": [
    "#That is the end of analysis\n",
    "#Thanks for reading <3"
   ]
  }
 ],
 "metadata": {
  "kernelspec": {
   "display_name": "Python 3 (ipykernel)",
   "language": "python",
   "name": "python3"
  },
  "language_info": {
   "codemirror_mode": {
    "name": "ipython",
    "version": 3
   },
   "file_extension": ".py",
   "mimetype": "text/x-python",
   "name": "python",
   "nbconvert_exporter": "python",
   "pygments_lexer": "ipython3",
   "version": "3.9.7"
  }
 },
 "nbformat": 4,
 "nbformat_minor": 5
}
